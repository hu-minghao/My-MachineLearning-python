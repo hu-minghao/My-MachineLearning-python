{
 "cells": [
  {
   "cell_type": "code",
   "execution_count": 1,
   "metadata": {},
   "outputs": [],
   "source": [
    "from sklearn import datasets\n",
    "from sklearn.feature_selection import RFE\n",
    "from sklearn.linear_model import LogisticRegression\n"
   ]
  },
  {
   "cell_type": "code",
   "execution_count": 2,
   "metadata": {},
   "outputs": [
    {
     "name": "stdout",
     "output_type": "stream",
     "text": [
      "selector.support_\n",
      " [False  True  True  True False False  True False  True  True  True  True\n",
      " False]\n",
      "selector.ranking_\n",
      " [4 1 1 1 5 3 1 2 1 1 1 1 6]\n",
      "selector.estimator_\n",
      " LogisticRegression(C=1.0, class_weight=None, dual=False, fit_intercept=True,\n",
      "          intercept_scaling=1, max_iter=100, multi_class='ovr', n_jobs=1,\n",
      "          penalty='l2', random_state=None, solver='liblinear', tol=0.0001,\n",
      "          verbose=0, warm_start=False)\n"
     ]
    }
   ],
   "source": [
    "wine=datasets.load_wine()\n",
    "x,y=wine.data,wine.target\n",
    "#递归特征消除需要给一个评价模型，评价模型需要能给出特征重要程度，比如线性回归，SVR\n",
    "estimator=LogisticRegression()\n",
    "selector=RFE(estimator, n_features_to_select=8, step=1).fit(x,y)\n",
    "print('selector.support_\\n',selector.support_)\n",
    "print('selector.ranking_\\n',selector.ranking_)\n",
    "print('selector.estimator_\\n',selector.estimator_)"
   ]
  },
  {
   "cell_type": "code",
   "execution_count": 3,
   "metadata": {},
   "outputs": [
    {
     "name": "stdout",
     "output_type": "stream",
     "text": [
      "[1, 2, 3, 6, 8, 9, 10, 11]\n"
     ]
    }
   ],
   "source": [
    "l=len(x[0])\n",
    "wine_feature=[]\n",
    "for i in range(l):\n",
    "    if selector.support_[i]:\n",
    "        wine_feature.append(i)\n",
    "print(wine_feature)\n",
    "#线性回归筛选结果：[1, 2, 3, 6, 8, 9, 10, 11]"
   ]
  },
  {
   "cell_type": "markdown",
   "metadata": {},
   "source": [
    "## 支持向量机分类结果"
   ]
  },
  {
   "cell_type": "code",
   "execution_count": 4,
   "metadata": {},
   "outputs": [
    {
     "name": "stderr",
     "output_type": "stream",
     "text": [
      "C:\\ProgramData\\Anaconda3\\lib\\site-packages\\ipykernel_launcher.py:3: DeprecationWarning: time.clock has been deprecated in Python 3.3 and will be removed from Python 3.8: use time.perf_counter or time.process_time instead\n",
      "  This is separate from the ipykernel package so we can avoid doing imports until\n",
      "C:\\ProgramData\\Anaconda3\\lib\\site-packages\\ipykernel_launcher.py:4: DeprecationWarning: time.clock has been deprecated in Python 3.3 and will be removed from Python 3.8: use time.perf_counter or time.process_time instead\n",
      "  after removing the cwd from sys.path.\n"
     ]
    },
    {
     "name": "stdout",
     "output_type": "stream",
     "text": [
      "selector.ranking_\n",
      " [4 1 1 1 5 3 1 2 1 1 1 1 6]\n",
      "[0, 2, 3, 5, 6, 7, 10, 11]\n",
      "Time used: 0.00028064999999966034\n"
     ]
    }
   ],
   "source": [
    "from sklearn.svm import SVR\n",
    "import time\n",
    "start = time.clock()\n",
    "elapsed = (time.clock() - start)\n",
    "\n",
    "estimator=SVR(kernel='linear')\n",
    "selector2=RFE(estimator,8,step=1).fit(x,y)\n",
    "print('selector.ranking_\\n',selector.ranking_)\n",
    "l=len(x[0])\n",
    "wine_feature=[]\n",
    "for i in range(l):\n",
    "    if selector2.support_[i]:\n",
    "        wine_feature.append(i)\n",
    "print(wine_feature)\n",
    "print(\"Time used:\",elapsed)\n",
    "#筛选结果为[0, 2, 3, 5, 6, 7, 10, 11]，而且耗时很长"
   ]
  },
  {
   "cell_type": "code",
   "execution_count": 7,
   "metadata": {},
   "outputs": [
    {
     "name": "stderr",
     "output_type": "stream",
     "text": [
      "C:\\ProgramData\\Anaconda3\\lib\\site-packages\\ipykernel_launcher.py:7: DeprecationWarning: time.clock has been deprecated in Python 3.3 and will be removed from Python 3.8: use time.perf_counter or time.process_time instead\n",
      "  import sys\n",
      "C:\\ProgramData\\Anaconda3\\lib\\site-packages\\ipykernel_launcher.py:8: DeprecationWarning: time.clock has been deprecated in Python 3.3 and will be removed from Python 3.8: use time.perf_counter or time.process_time instead\n",
      "  \n"
     ]
    },
    {
     "name": "stdout",
     "output_type": "stream",
     "text": [
      "selector.ranking_\n",
      " [4 2 1 1 5 3 1 1 1 1 1 1 6]\n",
      "choosed features:\n",
      " ['ash', 'alcalinity_of_ash', 'flavanoids', 'nonflavanoid_phenols', 'proanthocyanins', 'color_intensity', 'hue', 'od280/od315_of_diluted_wines']\n",
      "[2, 3, 6, 7, 8, 9, 10, 11]\n",
      "Time used: 0.00016302200000950506\n"
     ]
    }
   ],
   "source": [
    "#也是线性支持向量机，效果一样\n",
    "from sklearn.svm import LinearSVC\n",
    "from sklearn.preprocessing import StandardScaler\n",
    "import numpy as np\n",
    "#这里开始要计算运行时间了\n",
    "import time\n",
    "start = time.clock()\n",
    "elapsed = (time.clock() - start)\n",
    "#数据标准化后对比效果\n",
    "#scaler = StandardScaler()\n",
    "#scaler.fit(x)\n",
    "#终于知道如何取特征名称了\n",
    "featureNames = wine.feature_names\n",
    "estimator=LinearSVC()\n",
    "selector3=RFE(estimator,8,step=1).fit(x,y)\n",
    "print('selector.ranking_\\n',selector3.ranking_)\n",
    "l=len(x[0])\n",
    "wine_feature=[]\n",
    "for i in range(l):\n",
    "    if selector3.support_[i]:\n",
    "        wine_feature.append(i)\n",
    "#用np.array，加一个布尔列表，来取特征        \n",
    "feats = list(np.array(featureNames)[selector3.support_])\n",
    "print('choosed features:\\n',feats)\n",
    "print(wine_feature)\n",
    "#输出时间\n",
    "print(\"Time used:\",elapsed)"
   ]
  },
  {
   "cell_type": "code",
   "execution_count": null,
   "metadata": {},
   "outputs": [],
   "source": []
  }
 ],
 "metadata": {
  "kernelspec": {
   "display_name": "Python 3",
   "language": "python",
   "name": "python3"
  },
  "language_info": {
   "codemirror_mode": {
    "name": "ipython",
    "version": 3
   },
   "file_extension": ".py",
   "mimetype": "text/x-python",
   "name": "python",
   "nbconvert_exporter": "python",
   "pygments_lexer": "ipython3",
   "version": "3.7.0"
  }
 },
 "nbformat": 4,
 "nbformat_minor": 2
}
