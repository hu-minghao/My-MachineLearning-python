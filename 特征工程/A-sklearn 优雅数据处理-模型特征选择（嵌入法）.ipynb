{
 "cells": [
  {
   "cell_type": "code",
   "execution_count": 1,
   "metadata": {},
   "outputs": [],
   "source": [
    "from sklearn import datasets\n",
    "from sklearn.preprocessing import StandardScaler\n",
    "from sklearn.feature_selection import SelectFromModel\n",
    "from sklearn.linear_model import LogisticRegression"
   ]
  },
  {
   "cell_type": "markdown",
   "metadata": {},
   "source": [
    "estimator：对象。构建特征选择实例的基本分类器。如果参数prefit为True，则该参数可以由一个已经训练过的分类器初始化。如果prefit为False，则该参数只能传入没有经过训练的分类器实例\n",
    "threshold：字符串，浮点数，（可选的）默认为None。该参数指定特征选择的阈值，词语在分类模型中对应的系数值大于该值时被保留，否则被移除。如果该参数为字符串类型，则可设置的值有”mean”表示系数向量值的均值，”median”表示系数向量值的中值，也可以为”0.x*mean”或”0.x*median”。当该参数设置值为None时，如果分类器具有罚项且罚项设置为l1，则阈值为1e-5，否则该值为”mean”\n",
    "prefit：布尔类型。默认值为False。是否对传入的基本分类器事先进行训练。如果设置该值为True，则需要对传入的基本分类器进行训练，如果设置该值为False，则只需要传入分类器实例即可"
   ]
  },
  {
   "cell_type": "code",
   "execution_count": null,
   "metadata": {},
   "outputs": [],
   "source": [
    "使用L1范数作为惩罚项的:ref:Linear models会得到稀疏解：大部分特征对应的系数为0。当你希望减少特征的维度\n",
    "以用于其它分类器时，可以通过 feature_selection.SelectFromModel 来选择不为0的系数。特别指出，常用于此目的\n",
    "的稀疏预测模型有："
   ]
  },
  {
   "cell_type": "markdown",
   "metadata": {},
   "source": [
    "回归： linear_model.Lasso\n",
    "\n",
    "对于Lasso，参数alpha越大，被选中的特征越少 。\n",
    "分类： linear_model.LogisticRegression 和 svm.LinearSVC\n",
    "\n",
    "对于SVM和逻辑回归，参数C控制稀疏性：C越小，被选中的特征越少。"
   ]
  },
  {
   "cell_type": "code",
   "execution_count": 8,
   "metadata": {},
   "outputs": [
    {
     "name": "stdout",
     "output_type": "stream",
     "text": [
      "0.039999999999999994 [ 0  1  3  4  6  8  9 11]\n"
     ]
    }
   ],
   "source": [
    "wine=datasets.load_wine()\n",
    "x,y=wine.data,wine.target\n",
    "#选择模型，可以不先进行训练\n",
    "model=LogisticRegression(penalty=\"l1\", C=0.5)\n",
    "#设置特征选取模型，prefit表示是否自己预先进行训练，是的话选择True,否选择False,然后进行fit_transform，表示先训练\n",
    "#再转化特征\n",
    "selector=SelectFromModel(model,prefit=False,threshold=0.1)#特征阀值为一个超参数，这里通过迭代选择\n",
    "#进行特征选择\n",
    "n_feature=selector.fit_transform(x,y).shape[1]\n",
    "while n_feature<8:\n",
    "    selector.threshold-=0.02\n",
    "    n_feature=selector.transform(x).shape[1]\n",
    "\n",
    "print(selector.threshold,selector.get_support(True))"
   ]
  },
  {
   "cell_type": "code",
   "execution_count": 16,
   "metadata": {},
   "outputs": [
    {
     "name": "stdout",
     "output_type": "stream",
     "text": [
      "(178, 8)\n"
     ]
    }
   ],
   "source": [
    "from sklearn.svm import LinearSVC\n",
    "linearsvc=LinearSVC(C=1)\n",
    "linearsvc.fit(x,y)\n",
    "selector=SelectFromModel(linearsvc,threshold=0.1,prefit=True)\n",
    "new_x=selector.transform(x)\n",
    "print(new_x.shape)"
   ]
  },
  {
   "cell_type": "code",
   "execution_count": 11,
   "metadata": {},
   "outputs": [
    {
     "name": "stdout",
     "output_type": "stream",
     "text": [
      "-6.938893903907228e-18 [ 0  1  2  3  4  5  6  7  8  9 10 11 12]\n"
     ]
    },
    {
     "name": "stderr",
     "output_type": "stream",
     "text": [
      "C:\\ProgramData\\Anaconda3\\lib\\site-packages\\sklearn\\feature_selection\\base.py:80: UserWarning: No features were selected: either the data is too noisy or the selection test too strict.\n",
      "  UserWarning)\n"
     ]
    }
   ],
   "source": [
    "from sklearn.linear_model import Lasso\n",
    "lr = Lasso(alpha=1)\n",
    "lr.fit(x,y)\n",
    "#带L1惩罚项的逻辑回归作为基模型的特征选择\n",
    "model = SelectFromModel(lr, prefit=True,threshold=0.1)\n",
    "n_feature=model.transform(x).shape[1]\n",
    "while n_feature<8:\n",
    "    model.threshold-=0.02\n",
    "    n_feature=model.transform(x).shape[1]\n",
    "    \n",
    "print(model.threshold,model.get_support(True))"
   ]
  },
  {
   "cell_type": "code",
   "execution_count": 12,
   "metadata": {},
   "outputs": [
    {
     "name": "stdout",
     "output_type": "stream",
     "text": [
      "0.01 []\n"
     ]
    },
    {
     "name": "stderr",
     "output_type": "stream",
     "text": [
      "C:\\ProgramData\\Anaconda3\\lib\\site-packages\\sklearn\\feature_selection\\base.py:80: UserWarning: No features were selected: either the data is too noisy or the selection test too strict.\n",
      "  UserWarning)\n"
     ]
    }
   ],
   "source": [
    "import matplotlib.pyplot as plt\n",
    "import numpy as np\n",
    "\n",
    "from sklearn.linear_model import LassoCV\n",
    "clf = LassoCV()\n",
    "\n",
    "# Set a minimum threshold of 0.25\n",
    "sfm = SelectFromModel(clf, prefit=False,threshold=0.01)\n",
    "n_features = sfm.fit_transform(x,y).shape[1]  # 初始满足阈值后留下的特征\n",
    "# Reset the threshold till the number of features equals two.\n",
    "# Note that the attribute can be set directly instead of repeatedly\n",
    "# fitting the metatransformer.\n",
    "# 开始不断的进行阈值攀升，直到有特征不满足被砍掉\n",
    "while n_features > 5:\n",
    "    sfm.threshold += 0.05\n",
    "    X_transform = sfm.transform(x)\n",
    "    n_features = X_transform.shape[1]\n",
    "\n",
    "print(sfm.threshold,sfm.get_support(True))\n",
    "# Plot the selected two features from X.\n",
    "#plt.title(\n",
    "#    \"Features selected from Boston using SelectFromModel with \"\n",
    "#    \"threshold %0.3f.\" % sfm.threshold)\n",
    "#feature1 = X_transform[:, 0]\n",
    "#feature2 = X_transform[:, 1] \n",
    "#plt.plot(feature1, feature2, 'r.')\n",
    "#plt.xlabel(\"Feature number 1\")\n",
    "#plt.ylabel(\"Feature number 2\")\n",
    "#plt.ylim([np.min(feature2), np.max(feature2)])  # ylim 设置y轴的范围\n",
    "#plt.show()"
   ]
  },
  {
   "cell_type": "markdown",
   "metadata": {},
   "source": [
    "## 支持向量机做选择"
   ]
  },
  {
   "cell_type": "code",
   "execution_count": 16,
   "metadata": {},
   "outputs": [
    {
     "name": "stdout",
     "output_type": "stream",
     "text": [
      "0.0001 [ 3  4  6  9 12]\n"
     ]
    }
   ],
   "source": [
    "from sklearn.svm import LinearSVC\n",
    "from sklearn.datasets import load_wine\n",
    "from sklearn.feature_selection import SelectFromModel\n",
    "wine = load_wine()\n",
    "X, y = wine.data, wine.target\n",
    "X.shape\n",
    "# (150, 4)\n",
    "lsvc = LinearSVC(C=0.01, penalty=\"l1\", dual=False).fit(X,y)  # 这里的惩罚项是L1,别看做是11，这里L是小写\n",
    "model = SelectFromModel(lsvc, prefit=True,threshold=1e-4)\n",
    "n_feature = model.transform(X).shape[1]\n",
    "while n_feature>9:\n",
    "    model.threshold+=5*1e-4\n",
    "    n_feature=model.transform(X).shape[1]\n",
    "\n",
    "print(model.threshold,model.get_support(True))    \n",
    "# 选取的前三行看一下"
   ]
  },
  {
   "cell_type": "markdown",
   "metadata": {},
   "source": [
    "# 基于树做特征选择"
   ]
  },
  {
   "cell_type": "code",
   "execution_count": 22,
   "metadata": {},
   "outputs": [
    {
     "name": "stdout",
     "output_type": "stream",
     "text": [
      "(178, 4)\n"
     ]
    }
   ],
   "source": [
    "from sklearn.feature_selection import SelectFromModel\n",
    "from sklearn.ensemble import GradientBoostingRegressor\n",
    "\n",
    "gbdt = GradientBoostingRegressor()\n",
    "gbdt.fit(X,y)\n",
    "\n",
    "#GBDT作为基模型的特征选择\n",
    "model = SelectFromModel(gbdt, prefit=True)\n",
    "new_x=model.transform(x)\n",
    "print(new_x.shape)"
   ]
  },
  {
   "cell_type": "markdown",
   "metadata": {},
   "source": [
    "## 基于树模型特征选择，随机森林（回归与分类），提升树"
   ]
  },
  {
   "cell_type": "code",
   "execution_count": 23,
   "metadata": {},
   "outputs": [
    {
     "name": "stdout",
     "output_type": "stream",
     "text": [
      "[0.13829469 0.06187528 0.01256657 0.00683051 0.0070943  0.10201006\n",
      " 0.16383881 0.02063444 0.0194219  0.15887365 0.08179198 0.04418625\n",
      " 0.18258155]\n",
      "(178, 6)\n"
     ]
    }
   ],
   "source": [
    "from sklearn.ensemble import RandomForestClassifier\n",
    "\n",
    "clf = RandomForestClassifier()\n",
    "clf = clf.fit(X, y)\n",
    "print(clf.feature_importances_)   # 显示每一个特征的重要性指标，越大说明越重要，可以看出，第三第四两个特征比较重要\n",
    "# [ 0.04505659  0.01056346  0.45428591  0.49009404]\n",
    "model = SelectFromModel(clf, prefit=True)\n",
    "X_new = model.transform(X)\n",
    "print(X_new.shape)          "
   ]
  },
  {
   "cell_type": "code",
   "execution_count": 27,
   "metadata": {},
   "outputs": [
    {
     "data": {
      "image/png": "[encoded data removed]",
      "text/plain": [
       "<Figure size 432x288 with 1 Axes>"
      ]
     },
     "metadata": {
      "needs_background": "light"
     },
     "output_type": "display_data"
    }
   ],
   "source": [
    "from sklearn.ensemble import RandomForestRegressor\n",
    "from sklearn.datasets import load_boston\n",
    "boston=load_boston()\n",
    "x, y = wine.data, wine.target\n",
    "feature_name = np.array([\"%d %s\"%(b,a) for a,b in zip(wine.feature_names,range(len(boston.feature_names)))])\n",
    "rf = RandomForestClassifier(n_estimators=100, random_state=101).fit(x,y)\n",
    "importance = np.mean([tree.feature_importances_ for tree in rf.estimators_], axis=0)\n",
    "std = np.std([ tree.feature_importances_ for tree in rf.estimators_],axis=0)\n",
    "indices = np.argsort(importance)\n",
    "range_ = range(len(importance))\n",
    "\n",
    "plt.figure()\n",
    "plt.title(\"random forset importance\")\n",
    "plt.barh(range_, importance[indices],color='r',xerr=std[indices],alpha=0.4,align='center')\n",
    "plt.yticks(range(len(importance)),feature_name[indices])\n",
    "plt.ylim([-1,len(importance)])\n",
    "plt.xlim([0.0,0.45])\n",
    "plt.show()"
   ]
  },
  {
   "cell_type": "code",
   "execution_count": null,
   "metadata": {},
   "outputs": [],
   "source": []
  }
 ],
 "metadata": {
  "kernelspec": {
   "display_name": "Python 3",
   "language": "python",
   "name": "python3"
  },
  "language_info": {
   "codemirror_mode": {
    "name": "ipython",
    "version": 3
   },
   "file_extension": ".py",
   "mimetype": "text/x-python",
   "name": "python",
   "nbconvert_exporter": "python",
   "pygments_lexer": "ipython3",
   "version": "3.7.0"
  }
 },
 "nbformat": 4,
 "nbformat_minor": 2
}
