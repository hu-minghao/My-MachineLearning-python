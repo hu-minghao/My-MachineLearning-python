{
 "cells": [
  {
   "cell_type": "code",
   "execution_count": 1,
   "metadata": {},
   "outputs": [],
   "source": [
    "import pandas as pd\n",
    "from sklearn.preprocessing import StandardScaler"
   ]
  },
  {
   "cell_type": "code",
   "execution_count": 4,
   "metadata": {},
   "outputs": [
    {
     "data": {
      "text/html": [
       "<div>\n",
       "<style scoped>\n",
       "    .dataframe tbody tr th:only-of-type {\n",
       "        vertical-align: middle;\n",
       "    }\n",
       "\n",
       "    .dataframe tbody tr th {\n",
       "        vertical-align: top;\n",
       "    }\n",
       "\n",
       "    .dataframe thead th {\n",
       "        text-align: right;\n",
       "    }\n",
       "</style>\n",
       "<table border=\"1\" class=\"dataframe\">\n",
       "  <thead>\n",
       "    <tr style=\"text-align: right;\">\n",
       "      <th></th>\n",
       "      <th>1077501</th>\n",
       "      <th>1296599</th>\n",
       "      <th>5000</th>\n",
       "      <th>5000.1</th>\n",
       "      <th>4975</th>\n",
       "      <th>36 months</th>\n",
       "      <th>10.65</th>\n",
       "      <th>162.87</th>\n",
       "      <th>B</th>\n",
       "      <th>B2</th>\n",
       "      <th>...</th>\n",
       "      <th>0.4</th>\n",
       "      <th>0.5</th>\n",
       "      <th>0.6</th>\n",
       "      <th>15-Jan</th>\n",
       "      <th>171.62</th>\n",
       "      <th>Unnamed: 44</th>\n",
       "      <th>16-Jan</th>\n",
       "      <th>0.7</th>\n",
       "      <th>Unnamed: 47</th>\n",
       "      <th>1.1</th>\n",
       "    </tr>\n",
       "  </thead>\n",
       "  <tbody>\n",
       "    <tr>\n",
       "      <th>0</th>\n",
       "      <td>1077430</td>\n",
       "      <td>1314167</td>\n",
       "      <td>2500</td>\n",
       "      <td>2500</td>\n",
       "      <td>2500.0</td>\n",
       "      <td>60 months</td>\n",
       "      <td>15.27</td>\n",
       "      <td>59.83</td>\n",
       "      <td>C</td>\n",
       "      <td>C4</td>\n",
       "      <td>...</td>\n",
       "      <td>0.00</td>\n",
       "      <td>117.08</td>\n",
       "      <td>1.11</td>\n",
       "      <td>13-Apr</td>\n",
       "      <td>119.66</td>\n",
       "      <td>NaN</td>\n",
       "      <td>13-Sep</td>\n",
       "      <td>0.0</td>\n",
       "      <td>NaN</td>\n",
       "      <td>1</td>\n",
       "    </tr>\n",
       "    <tr>\n",
       "      <th>1</th>\n",
       "      <td>1077175</td>\n",
       "      <td>1313524</td>\n",
       "      <td>2400</td>\n",
       "      <td>2400</td>\n",
       "      <td>2400.0</td>\n",
       "      <td>36 months</td>\n",
       "      <td>15.96</td>\n",
       "      <td>84.33</td>\n",
       "      <td>C</td>\n",
       "      <td>C5</td>\n",
       "      <td>...</td>\n",
       "      <td>0.00</td>\n",
       "      <td>0.00</td>\n",
       "      <td>0.00</td>\n",
       "      <td>14-Jun</td>\n",
       "      <td>649.91</td>\n",
       "      <td>NaN</td>\n",
       "      <td>16-Jan</td>\n",
       "      <td>0.0</td>\n",
       "      <td>NaN</td>\n",
       "      <td>1</td>\n",
       "    </tr>\n",
       "    <tr>\n",
       "      <th>2</th>\n",
       "      <td>1076863</td>\n",
       "      <td>1277178</td>\n",
       "      <td>10000</td>\n",
       "      <td>10000</td>\n",
       "      <td>10000.0</td>\n",
       "      <td>36 months</td>\n",
       "      <td>13.49</td>\n",
       "      <td>339.31</td>\n",
       "      <td>C</td>\n",
       "      <td>C1</td>\n",
       "      <td>...</td>\n",
       "      <td>16.97</td>\n",
       "      <td>0.00</td>\n",
       "      <td>0.00</td>\n",
       "      <td>15-Jan</td>\n",
       "      <td>357.48</td>\n",
       "      <td>NaN</td>\n",
       "      <td>15-Jan</td>\n",
       "      <td>0.0</td>\n",
       "      <td>NaN</td>\n",
       "      <td>1</td>\n",
       "    </tr>\n",
       "    <tr>\n",
       "      <th>3</th>\n",
       "      <td>1075358</td>\n",
       "      <td>1311748</td>\n",
       "      <td>3000</td>\n",
       "      <td>3000</td>\n",
       "      <td>3000.0</td>\n",
       "      <td>60 months</td>\n",
       "      <td>12.69</td>\n",
       "      <td>67.79</td>\n",
       "      <td>B</td>\n",
       "      <td>B5</td>\n",
       "      <td>...</td>\n",
       "      <td>0.00</td>\n",
       "      <td>0.00</td>\n",
       "      <td>0.00</td>\n",
       "      <td>16-Jan</td>\n",
       "      <td>67.79</td>\n",
       "      <td>16-Feb</td>\n",
       "      <td>16-Jan</td>\n",
       "      <td>0.0</td>\n",
       "      <td>NaN</td>\n",
       "      <td>1</td>\n",
       "    </tr>\n",
       "    <tr>\n",
       "      <th>4</th>\n",
       "      <td>1075269</td>\n",
       "      <td>1311441</td>\n",
       "      <td>5000</td>\n",
       "      <td>5000</td>\n",
       "      <td>5000.0</td>\n",
       "      <td>36 months</td>\n",
       "      <td>7.90</td>\n",
       "      <td>156.46</td>\n",
       "      <td>A</td>\n",
       "      <td>A4</td>\n",
       "      <td>...</td>\n",
       "      <td>0.00</td>\n",
       "      <td>0.00</td>\n",
       "      <td>0.00</td>\n",
       "      <td>15-Jan</td>\n",
       "      <td>161.03</td>\n",
       "      <td>NaN</td>\n",
       "      <td>15-Sep</td>\n",
       "      <td>0.0</td>\n",
       "      <td>NaN</td>\n",
       "      <td>1</td>\n",
       "    </tr>\n",
       "  </tbody>\n",
       "</table>\n",
       "<p>5 rows × 49 columns</p>\n",
       "</div>"
      ],
      "text/plain": [
       "   1077501  1296599   5000  5000.1     4975  36 months  10.65  162.87  B  B2  \\\n",
       "0  1077430  1314167   2500    2500   2500.0  60 months  15.27   59.83  C  C4   \n",
       "1  1077175  1313524   2400    2400   2400.0  36 months  15.96   84.33  C  C5   \n",
       "2  1076863  1277178  10000   10000  10000.0  36 months  13.49  339.31  C  C1   \n",
       "3  1075358  1311748   3000    3000   3000.0  60 months  12.69   67.79  B  B5   \n",
       "4  1075269  1311441   5000    5000   5000.0  36 months   7.90  156.46  A  A4   \n",
       "\n",
       "  ...    0.4     0.5   0.6  15-Jan  171.62 Unnamed: 44  16-Jan  0.7  \\\n",
       "0 ...   0.00  117.08  1.11  13-Apr  119.66         NaN  13-Sep  0.0   \n",
       "1 ...   0.00    0.00  0.00  14-Jun  649.91         NaN  16-Jan  0.0   \n",
       "2 ...  16.97    0.00  0.00  15-Jan  357.48         NaN  15-Jan  0.0   \n",
       "3 ...   0.00    0.00  0.00  16-Jan   67.79      16-Feb  16-Jan  0.0   \n",
       "4 ...   0.00    0.00  0.00  15-Jan  161.03         NaN  15-Sep  0.0   \n",
       "\n",
       "  Unnamed: 47 1.1  \n",
       "0         NaN   1  \n",
       "1         NaN   1  \n",
       "2         NaN   1  \n",
       "3         NaN   1  \n",
       "4         NaN   1  \n",
       "\n",
       "[5 rows x 49 columns]"
      ]
     },
     "execution_count": 4,
     "metadata": {},
     "output_type": "execute_result"
    }
   ],
   "source": [
    "data=open('E:\\华为大数据课程\\\\test\\loan.csv',encoding='utf-8')\n",
    "loan_data=pd.read_csv(data)\n",
    "loan_data.head()"
   ]
  },
  {
   "cell_type": "code",
   "execution_count": 8,
   "metadata": {},
   "outputs": [
    {
     "data": {
      "text/plain": [
       "(5000, 49)"
      ]
     },
     "execution_count": 8,
     "metadata": {},
     "output_type": "execute_result"
    }
   ],
   "source": [
    "#iloc位置索引，loc列名索引\n",
    "loan=loan_data.iloc[:5000,:]"
   ]
  },
  {
   "cell_type": "code",
   "execution_count": 10,
   "metadata": {},
   "outputs": [
    {
     "data": {
      "text/html": [
       "<div>\n",
       "<style scoped>\n",
       "    .dataframe tbody tr th:only-of-type {\n",
       "        vertical-align: middle;\n",
       "    }\n",
       "\n",
       "    .dataframe tbody tr th {\n",
       "        vertical-align: top;\n",
       "    }\n",
       "\n",
       "    .dataframe thead th {\n",
       "        text-align: right;\n",
       "    }\n",
       "</style>\n",
       "<table border=\"1\" class=\"dataframe\">\n",
       "  <thead>\n",
       "    <tr style=\"text-align: right;\">\n",
       "      <th></th>\n",
       "      <th>0</th>\n",
       "      <th>1</th>\n",
       "      <th>2</th>\n",
       "      <th>3</th>\n",
       "      <th>4</th>\n",
       "      <th>5</th>\n",
       "      <th>6</th>\n",
       "      <th>7</th>\n",
       "      <th>8</th>\n",
       "      <th>9</th>\n",
       "      <th>...</th>\n",
       "      <th>39</th>\n",
       "      <th>40</th>\n",
       "      <th>41</th>\n",
       "      <th>42</th>\n",
       "      <th>43</th>\n",
       "      <th>44</th>\n",
       "      <th>45</th>\n",
       "      <th>46</th>\n",
       "      <th>47</th>\n",
       "      <th>48</th>\n",
       "    </tr>\n",
       "  </thead>\n",
       "  <tbody>\n",
       "    <tr>\n",
       "      <th>0</th>\n",
       "      <td>1077430</td>\n",
       "      <td>1314167</td>\n",
       "      <td>2500</td>\n",
       "      <td>2500</td>\n",
       "      <td>2500.0</td>\n",
       "      <td>60 months</td>\n",
       "      <td>15.27</td>\n",
       "      <td>59.83</td>\n",
       "      <td>C</td>\n",
       "      <td>C4</td>\n",
       "      <td>...</td>\n",
       "      <td>0.00</td>\n",
       "      <td>117.08</td>\n",
       "      <td>1.11</td>\n",
       "      <td>13-Apr</td>\n",
       "      <td>119.66</td>\n",
       "      <td>NaN</td>\n",
       "      <td>13-Sep</td>\n",
       "      <td>0.0</td>\n",
       "      <td>NaN</td>\n",
       "      <td>1</td>\n",
       "    </tr>\n",
       "    <tr>\n",
       "      <th>1</th>\n",
       "      <td>1077175</td>\n",
       "      <td>1313524</td>\n",
       "      <td>2400</td>\n",
       "      <td>2400</td>\n",
       "      <td>2400.0</td>\n",
       "      <td>36 months</td>\n",
       "      <td>15.96</td>\n",
       "      <td>84.33</td>\n",
       "      <td>C</td>\n",
       "      <td>C5</td>\n",
       "      <td>...</td>\n",
       "      <td>0.00</td>\n",
       "      <td>0.00</td>\n",
       "      <td>0.00</td>\n",
       "      <td>14-Jun</td>\n",
       "      <td>649.91</td>\n",
       "      <td>NaN</td>\n",
       "      <td>16-Jan</td>\n",
       "      <td>0.0</td>\n",
       "      <td>NaN</td>\n",
       "      <td>1</td>\n",
       "    </tr>\n",
       "    <tr>\n",
       "      <th>2</th>\n",
       "      <td>1076863</td>\n",
       "      <td>1277178</td>\n",
       "      <td>10000</td>\n",
       "      <td>10000</td>\n",
       "      <td>10000.0</td>\n",
       "      <td>36 months</td>\n",
       "      <td>13.49</td>\n",
       "      <td>339.31</td>\n",
       "      <td>C</td>\n",
       "      <td>C1</td>\n",
       "      <td>...</td>\n",
       "      <td>16.97</td>\n",
       "      <td>0.00</td>\n",
       "      <td>0.00</td>\n",
       "      <td>15-Jan</td>\n",
       "      <td>357.48</td>\n",
       "      <td>NaN</td>\n",
       "      <td>15-Jan</td>\n",
       "      <td>0.0</td>\n",
       "      <td>NaN</td>\n",
       "      <td>1</td>\n",
       "    </tr>\n",
       "    <tr>\n",
       "      <th>3</th>\n",
       "      <td>1075358</td>\n",
       "      <td>1311748</td>\n",
       "      <td>3000</td>\n",
       "      <td>3000</td>\n",
       "      <td>3000.0</td>\n",
       "      <td>60 months</td>\n",
       "      <td>12.69</td>\n",
       "      <td>67.79</td>\n",
       "      <td>B</td>\n",
       "      <td>B5</td>\n",
       "      <td>...</td>\n",
       "      <td>0.00</td>\n",
       "      <td>0.00</td>\n",
       "      <td>0.00</td>\n",
       "      <td>16-Jan</td>\n",
       "      <td>67.79</td>\n",
       "      <td>16-Feb</td>\n",
       "      <td>16-Jan</td>\n",
       "      <td>0.0</td>\n",
       "      <td>NaN</td>\n",
       "      <td>1</td>\n",
       "    </tr>\n",
       "    <tr>\n",
       "      <th>4</th>\n",
       "      <td>1075269</td>\n",
       "      <td>1311441</td>\n",
       "      <td>5000</td>\n",
       "      <td>5000</td>\n",
       "      <td>5000.0</td>\n",
       "      <td>36 months</td>\n",
       "      <td>7.90</td>\n",
       "      <td>156.46</td>\n",
       "      <td>A</td>\n",
       "      <td>A4</td>\n",
       "      <td>...</td>\n",
       "      <td>0.00</td>\n",
       "      <td>0.00</td>\n",
       "      <td>0.00</td>\n",
       "      <td>15-Jan</td>\n",
       "      <td>161.03</td>\n",
       "      <td>NaN</td>\n",
       "      <td>15-Sep</td>\n",
       "      <td>0.0</td>\n",
       "      <td>NaN</td>\n",
       "      <td>1</td>\n",
       "    </tr>\n",
       "  </tbody>\n",
       "</table>\n",
       "<p>5 rows × 49 columns</p>\n",
       "</div>"
      ],
      "text/plain": [
       "        0        1      2      3        4          5      6       7  8   9   \\\n",
       "0  1077430  1314167   2500   2500   2500.0  60 months  15.27   59.83  C  C4   \n",
       "1  1077175  1313524   2400   2400   2400.0  36 months  15.96   84.33  C  C5   \n",
       "2  1076863  1277178  10000  10000  10000.0  36 months  13.49  339.31  C  C1   \n",
       "3  1075358  1311748   3000   3000   3000.0  60 months  12.69   67.79  B  B5   \n",
       "4  1075269  1311441   5000   5000   5000.0  36 months   7.90  156.46  A  A4   \n",
       "\n",
       "  ...     39      40    41      42      43      44      45   46  47 48  \n",
       "0 ...   0.00  117.08  1.11  13-Apr  119.66     NaN  13-Sep  0.0 NaN  1  \n",
       "1 ...   0.00    0.00  0.00  14-Jun  649.91     NaN  16-Jan  0.0 NaN  1  \n",
       "2 ...  16.97    0.00  0.00  15-Jan  357.48     NaN  15-Jan  0.0 NaN  1  \n",
       "3 ...   0.00    0.00  0.00  16-Jan   67.79  16-Feb  16-Jan  0.0 NaN  1  \n",
       "4 ...   0.00    0.00  0.00  15-Jan  161.03     NaN  15-Sep  0.0 NaN  1  \n",
       "\n",
       "[5 rows x 49 columns]"
      ]
     },
     "execution_count": 10,
     "metadata": {},
     "output_type": "execute_result"
    }
   ],
   "source": [
    "col=list(range(49))\n",
    "loan.columns=col\n",
    "loan.head()"
   ]
  },
  {
   "cell_type": "code",
   "execution_count": 12,
   "metadata": {},
   "outputs": [
    {
     "name": "stdout",
     "output_type": "stream",
     "text": [
      "<class 'pandas.core.series.Series'> 47    1.0000\n",
      "26    0.9682\n",
      "44    0.8998\n",
      "25    0.6942\n",
      "dtype: float64\n"
     ]
    }
   ],
   "source": [
    "#查看数据缺失比例，ascending表示是否升序\n",
    "check_null=loan.isnull().sum().sort_values(ascending=False)/float(len(loan))\n",
    "#series 也可以用[搜查条件]\n",
    "print(type(check_null),check_null[check_null>0.2])"
   ]
  },
  {
   "cell_type": "code",
   "execution_count": 13,
   "metadata": {},
   "outputs": [
    {
     "name": "stdout",
     "output_type": "stream",
     "text": [
      "(5000, 45)\n"
     ]
    }
   ],
   "source": [
    "thresh_count=len(loan)*0.9\n",
    "#删除缺失比例大于阀值的列，dropna方法，thresh参数\n",
    "loan=loan.dropna(thresh=thresh_count,axis=1)\n",
    "print(loan.shape)"
   ]
  },
  {
   "cell_type": "code",
   "execution_count": 14,
   "metadata": {},
   "outputs": [],
   "source": [
    "loan.to_csv('E:\\华为大数据课程\\\\test\\loan2007_2015.csv',index=False)#忽略首行列头"
   ]
  },
  {
   "cell_type": "code",
   "execution_count": 17,
   "metadata": {},
   "outputs": [
    {
     "name": "stdout",
     "output_type": "stream",
     "text": [
      "float64    22\n",
      "object     17\n",
      "int64       6\n",
      "dtype: int64\n",
      "(5000, 45)\n"
     ]
    }
   ],
   "source": [
    "data_train=open('E:\\华为大数据课程\\\\test\\loan2007_2015.csv',encoding='utf-8')\n",
    "loans=pd.read_csv(data_train)\n",
    "print(loans.dtypes.value_counts())\n",
    "print(loans.shape)"
   ]
  },
  {
   "cell_type": "markdown",
   "metadata": {},
   "source": [
    "步骤六 同值处理"
   ]
  },
  {
   "cell_type": "code",
   "execution_count": 18,
   "metadata": {},
   "outputs": [
    {
     "name": "stdout",
     "output_type": "stream",
     "text": [
      "(5000, 41)\n"
     ]
    }
   ],
   "source": [
    "#nunique一列中不同值的个数\n",
    "loans=loans.loc[:,loans.apply(pd.Series.nunique)!=1]\n",
    "print(loans.shape)"
   ]
  },
  {
   "cell_type": "markdown",
   "metadata": {},
   "source": [
    "步骤七 缺失值处理-分类变量"
   ]
  },
  {
   "cell_type": "code",
   "execution_count": 19,
   "metadata": {},
   "outputs": [
    {
     "name": "stdout",
     "output_type": "stream",
     "text": [
      "10    177\n",
      "42      6\n",
      "45      0\n",
      "23      0\n",
      "20      0\n",
      "19      0\n",
      "18      0\n",
      "17      0\n",
      "15      0\n",
      "14      0\n",
      "13      0\n",
      "11      0\n",
      "9       0\n",
      "8       0\n",
      "5       0\n",
      "dtype: int64\n"
     ]
    }
   ],
   "source": [
    "#获取一个种类数据的所有特征列\n",
    "objectColumns=loans.select_dtypes(include=['object']).columns\n",
    "#逐一输出这个种类数据的各特征缺失值情况\n",
    "print(loans[objectColumns].isnull().sum().sort_values(ascending=False))"
   ]
  },
  {
   "cell_type": "markdown",
   "metadata": {},
   "source": [
    "步骤8 调用Missingno库来快速评价数值缺失情况，字符串类型需要先进行数据转换"
   ]
  },
  {
   "cell_type": "code",
   "execution_count": 22,
   "metadata": {},
   "outputs": [],
   "source": [
    "import missingno as msno\n",
    "import numpy as np\n",
    "import matplotlib.pyplot as plt"
   ]
  },
  {
   "cell_type": "code",
   "execution_count": 23,
   "metadata": {},
   "outputs": [
    {
     "data": {
      "image/png": "[encoded data removed]",
      "text/plain": [
       "<Figure size 1800x720 with 2 Axes>"
      ]
     },
     "metadata": {
      "needs_background": "light"
     },
     "output_type": "display_data"
    }
   ],
   "source": [
    "msno.matrix(loans[objectColumns])\n",
    "plt.show()"
   ]
  },
  {
   "cell_type": "markdown",
   "metadata": {},
   "source": [
    "可以看出第十列缺失值较多，这里先用‘unknown’代替"
   ]
  },
  {
   "cell_type": "code",
   "execution_count": 24,
   "metadata": {},
   "outputs": [],
   "source": [
    "objectColumns=loans.select_dtypes(include=['object']).columns\n",
    "loans[objectColumns]=loans[objectColumns].fillna('Unknown')"
   ]
  },
  {
   "cell_type": "code",
   "execution_count": 25,
   "metadata": {},
   "outputs": [
    {
     "data": {
      "text/html": [
       "<div>\n",
       "<style scoped>\n",
       "    .dataframe tbody tr th:only-of-type {\n",
       "        vertical-align: middle;\n",
       "    }\n",
       "\n",
       "    .dataframe tbody tr th {\n",
       "        vertical-align: top;\n",
       "    }\n",
       "\n",
       "    .dataframe thead th {\n",
       "        text-align: right;\n",
       "    }\n",
       "</style>\n",
       "<table border=\"1\" class=\"dataframe\">\n",
       "  <thead>\n",
       "    <tr style=\"text-align: right;\">\n",
       "      <th></th>\n",
       "      <th>0</th>\n",
       "      <th>1</th>\n",
       "      <th>2</th>\n",
       "      <th>3</th>\n",
       "      <th>4</th>\n",
       "      <th>6</th>\n",
       "      <th>7</th>\n",
       "      <th>12</th>\n",
       "      <th>21</th>\n",
       "      <th>22</th>\n",
       "      <th>24</th>\n",
       "      <th>27</th>\n",
       "      <th>28</th>\n",
       "      <th>29</th>\n",
       "      <th>30</th>\n",
       "      <th>31</th>\n",
       "      <th>33</th>\n",
       "      <th>34</th>\n",
       "      <th>35</th>\n",
       "      <th>36</th>\n",
       "      <th>37</th>\n",
       "      <th>38</th>\n",
       "      <th>39</th>\n",
       "      <th>40</th>\n",
       "      <th>41</th>\n",
       "      <th>43</th>\n",
       "    </tr>\n",
       "  </thead>\n",
       "  <tbody>\n",
       "    <tr>\n",
       "      <th>4995</th>\n",
       "      <td>994103</td>\n",
       "      <td>1218303</td>\n",
       "      <td>7200</td>\n",
       "      <td>7200</td>\n",
       "      <td>7200.0</td>\n",
       "      <td>7.90</td>\n",
       "      <td>225.29</td>\n",
       "      <td>72000.0</td>\n",
       "      <td>18.50</td>\n",
       "      <td>0.0</td>\n",
       "      <td>1.0</td>\n",
       "      <td>12.0</td>\n",
       "      <td>0.0</td>\n",
       "      <td>26692</td>\n",
       "      <td>63.3</td>\n",
       "      <td>25.0</td>\n",
       "      <td>0.0</td>\n",
       "      <td>0.0</td>\n",
       "      <td>8110.230042</td>\n",
       "      <td>8110.23</td>\n",
       "      <td>7200.0</td>\n",
       "      <td>910.23</td>\n",
       "      <td>0.0</td>\n",
       "      <td>0.0</td>\n",
       "      <td>0.0</td>\n",
       "      <td>229.94</td>\n",
       "    </tr>\n",
       "    <tr>\n",
       "      <th>4996</th>\n",
       "      <td>993885</td>\n",
       "      <td>1218488</td>\n",
       "      <td>8000</td>\n",
       "      <td>8000</td>\n",
       "      <td>8000.0</td>\n",
       "      <td>6.03</td>\n",
       "      <td>243.49</td>\n",
       "      <td>85200.0</td>\n",
       "      <td>9.49</td>\n",
       "      <td>0.0</td>\n",
       "      <td>0.0</td>\n",
       "      <td>9.0</td>\n",
       "      <td>0.0</td>\n",
       "      <td>0</td>\n",
       "      <td>0.0</td>\n",
       "      <td>30.0</td>\n",
       "      <td>0.0</td>\n",
       "      <td>0.0</td>\n",
       "      <td>8753.973604</td>\n",
       "      <td>8753.97</td>\n",
       "      <td>8000.0</td>\n",
       "      <td>753.97</td>\n",
       "      <td>0.0</td>\n",
       "      <td>0.0</td>\n",
       "      <td>0.0</td>\n",
       "      <td>1581.86</td>\n",
       "    </tr>\n",
       "    <tr>\n",
       "      <th>4997</th>\n",
       "      <td>994123</td>\n",
       "      <td>1218525</td>\n",
       "      <td>24000</td>\n",
       "      <td>24000</td>\n",
       "      <td>24000.0</td>\n",
       "      <td>19.03</td>\n",
       "      <td>880.11</td>\n",
       "      <td>85000.0</td>\n",
       "      <td>13.13</td>\n",
       "      <td>0.0</td>\n",
       "      <td>0.0</td>\n",
       "      <td>12.0</td>\n",
       "      <td>0.0</td>\n",
       "      <td>23311</td>\n",
       "      <td>78.8</td>\n",
       "      <td>24.0</td>\n",
       "      <td>0.0</td>\n",
       "      <td>0.0</td>\n",
       "      <td>30605.817540</td>\n",
       "      <td>30605.82</td>\n",
       "      <td>24000.0</td>\n",
       "      <td>6605.82</td>\n",
       "      <td>0.0</td>\n",
       "      <td>0.0</td>\n",
       "      <td>0.0</td>\n",
       "      <td>1495.11</td>\n",
       "    </tr>\n",
       "    <tr>\n",
       "      <th>4998</th>\n",
       "      <td>994096</td>\n",
       "      <td>1218296</td>\n",
       "      <td>2000</td>\n",
       "      <td>2000</td>\n",
       "      <td>2000.0</td>\n",
       "      <td>12.69</td>\n",
       "      <td>67.09</td>\n",
       "      <td>38400.0</td>\n",
       "      <td>21.06</td>\n",
       "      <td>0.0</td>\n",
       "      <td>1.0</td>\n",
       "      <td>11.0</td>\n",
       "      <td>0.0</td>\n",
       "      <td>620</td>\n",
       "      <td>10.2</td>\n",
       "      <td>23.0</td>\n",
       "      <td>0.0</td>\n",
       "      <td>0.0</td>\n",
       "      <td>2413.792479</td>\n",
       "      <td>2413.79</td>\n",
       "      <td>2000.0</td>\n",
       "      <td>413.79</td>\n",
       "      <td>0.0</td>\n",
       "      <td>0.0</td>\n",
       "      <td>0.0</td>\n",
       "      <td>72.39</td>\n",
       "    </tr>\n",
       "    <tr>\n",
       "      <th>4999</th>\n",
       "      <td>993964</td>\n",
       "      <td>1218153</td>\n",
       "      <td>7000</td>\n",
       "      <td>7000</td>\n",
       "      <td>7000.0</td>\n",
       "      <td>6.62</td>\n",
       "      <td>214.93</td>\n",
       "      <td>48000.0</td>\n",
       "      <td>16.00</td>\n",
       "      <td>0.0</td>\n",
       "      <td>0.0</td>\n",
       "      <td>14.0</td>\n",
       "      <td>0.0</td>\n",
       "      <td>22301</td>\n",
       "      <td>80.9</td>\n",
       "      <td>25.0</td>\n",
       "      <td>0.0</td>\n",
       "      <td>0.0</td>\n",
       "      <td>7736.092664</td>\n",
       "      <td>7736.09</td>\n",
       "      <td>7000.0</td>\n",
       "      <td>736.09</td>\n",
       "      <td>0.0</td>\n",
       "      <td>0.0</td>\n",
       "      <td>0.0</td>\n",
       "      <td>223.80</td>\n",
       "    </tr>\n",
       "  </tbody>\n",
       "</table>\n",
       "</div>"
      ],
      "text/plain": [
       "           0        1      2      3        4      6       7       12     21  \\\n",
       "4995  994103  1218303   7200   7200   7200.0   7.90  225.29  72000.0  18.50   \n",
       "4996  993885  1218488   8000   8000   8000.0   6.03  243.49  85200.0   9.49   \n",
       "4997  994123  1218525  24000  24000  24000.0  19.03  880.11  85000.0  13.13   \n",
       "4998  994096  1218296   2000   2000   2000.0  12.69   67.09  38400.0  21.06   \n",
       "4999  993964  1218153   7000   7000   7000.0   6.62  214.93  48000.0  16.00   \n",
       "\n",
       "       22   24    27   28     29    30    31   33   34            35  \\\n",
       "4995  0.0  1.0  12.0  0.0  26692  63.3  25.0  0.0  0.0   8110.230042   \n",
       "4996  0.0  0.0   9.0  0.0      0   0.0  30.0  0.0  0.0   8753.973604   \n",
       "4997  0.0  0.0  12.0  0.0  23311  78.8  24.0  0.0  0.0  30605.817540   \n",
       "4998  0.0  1.0  11.0  0.0    620  10.2  23.0  0.0  0.0   2413.792479   \n",
       "4999  0.0  0.0  14.0  0.0  22301  80.9  25.0  0.0  0.0   7736.092664   \n",
       "\n",
       "            36       37       38   39   40   41       43  \n",
       "4995   8110.23   7200.0   910.23  0.0  0.0  0.0   229.94  \n",
       "4996   8753.97   8000.0   753.97  0.0  0.0  0.0  1581.86  \n",
       "4997  30605.82  24000.0  6605.82  0.0  0.0  0.0  1495.11  \n",
       "4998   2413.79   2000.0   413.79  0.0  0.0  0.0    72.39  \n",
       "4999   7736.09   7000.0   736.09  0.0  0.0  0.0   223.80  "
      ]
     },
     "execution_count": 25,
     "metadata": {},
     "output_type": "execute_result"
    }
   ],
   "source": [
    "#选取数值变量列\n",
    "numColumns=loans.select_dtypes(include=[np.number]).columns\n",
    "pd.set_option('display.max_columns',len(numColumns))\n",
    "loans[numColumns].tail()"
   ]
  },
  {
   "cell_type": "code",
   "execution_count": 27,
   "metadata": {},
   "outputs": [
    {
     "ename": "ModuleNotFoundError",
     "evalue": "No module named 'sklearn.impute'",
     "output_type": "error",
     "traceback": [
      "\u001b[1;31m---------------------------------------------------------------------------\u001b[0m",
      "\u001b[1;31mModuleNotFoundError\u001b[0m                       Traceback (most recent call last)",
      "\u001b[1;32m<ipython-input-27-7871d987aaa8>\u001b[0m in \u001b[0;36m<module>\u001b[1;34m()\u001b[0m\n\u001b[0;32m      1\u001b[0m \u001b[1;31m#对于数值列，采用sklearn 的processing模块，进行均值填充\u001b[0m\u001b[1;33m\u001b[0m\u001b[1;33m\u001b[0m\u001b[0m\n\u001b[0;32m      2\u001b[0m \u001b[1;32mfrom\u001b[0m \u001b[0msklearn\u001b[0m \u001b[1;32mimport\u001b[0m \u001b[0mpreprocessing\u001b[0m\u001b[1;33m\u001b[0m\u001b[0m\n\u001b[1;32m----> 3\u001b[1;33m \u001b[1;32mfrom\u001b[0m \u001b[0msklearn\u001b[0m\u001b[1;33m.\u001b[0m\u001b[0mimpute\u001b[0m \u001b[1;32mimport\u001b[0m \u001b[0mSimpleImputer\u001b[0m\u001b[1;33m\u001b[0m\u001b[0m\n\u001b[0m\u001b[0;32m      4\u001b[0m \u001b[1;31m#verbose=0针对列来处理\u001b[0m\u001b[1;33m\u001b[0m\u001b[1;33m\u001b[0m\u001b[0m\n\u001b[0;32m      5\u001b[0m \u001b[0mimr\u001b[0m\u001b[1;33m=\u001b[0m\u001b[0mSimpleImputer\u001b[0m\u001b[1;33m(\u001b[0m\u001b[0mmissing_values\u001b[0m\u001b[1;33m=\u001b[0m\u001b[0mnp\u001b[0m\u001b[1;33m.\u001b[0m\u001b[0mnan\u001b[0m\u001b[1;33m,\u001b[0m\u001b[0mstrategy\u001b[0m\u001b[1;33m=\u001b[0m\u001b[1;34m'mean'\u001b[0m\u001b[1;33m,\u001b[0m\u001b[0mverbose\u001b[0m\u001b[1;33m=\u001b[0m\u001b[1;36m0\u001b[0m\u001b[1;33m)\u001b[0m\u001b[1;33m\u001b[0m\u001b[0m\n",
      "\u001b[1;31mModuleNotFoundError\u001b[0m: No module named 'sklearn.impute'"
     ]
    }
   ],
   "source": [
    "#对于数值列，采用sklearn 的processing模块，进行均值填充\n",
    "from sklearn import preprocessing\n",
    "from sklearn.impute import SimpleImputer\n",
    "#verbose=0针对列来处理\n",
    "imr=SimpleImputer(missing_values=np.nan,strategy='mean',verbose=0)\n",
    "imr=imr.fit(loans[numColumns])\n",
    "loans[numColumns]=imr.transform(loans[numColumns])\n",
    "msno.matrix(loans[numColumns])#缺失值可视化\n",
    "plt.show()"
   ]
  },
  {
   "cell_type": "markdown",
   "metadata": {},
   "source": [
    "根据属性列直接过滤掉对预测模型没有实际意义的属性"
   ]
  },
  {
   "cell_type": "code",
   "execution_count": null,
   "metadata": {},
   "outputs": [],
   "source": [
    "#设置过滤属性列\n",
    "drop_list=[]\n",
    "loans.drop(drop_list,axis=1,inplace=True)"
   ]
  },
  {
   "cell_type": "markdown",
   "metadata": {},
   "source": [
    "步骤11 特征衍生"
   ]
  },
  {
   "cell_type": "code",
   "execution_count": null,
   "metadata": {},
   "outputs": [],
   "source": [
    "loans['新特征']=loans['']/((loans[]+1)/12)"
   ]
  },
  {
   "cell_type": "code",
   "execution_count": 28,
   "metadata": {},
   "outputs": [
    {
     "data": {
      "text/html": [
       "<div>\n",
       "<style scoped>\n",
       "    .dataframe tbody tr th:only-of-type {\n",
       "        vertical-align: middle;\n",
       "    }\n",
       "\n",
       "    .dataframe tbody tr th {\n",
       "        vertical-align: top;\n",
       "    }\n",
       "\n",
       "    .dataframe thead th {\n",
       "        text-align: right;\n",
       "    }\n",
       "</style>\n",
       "<table border=\"1\" class=\"dataframe\">\n",
       "  <thead>\n",
       "    <tr style=\"text-align: right;\">\n",
       "      <th></th>\n",
       "      <th>5</th>\n",
       "      <th>8</th>\n",
       "      <th>9</th>\n",
       "      <th>10</th>\n",
       "      <th>11</th>\n",
       "      <th>13</th>\n",
       "      <th>14</th>\n",
       "      <th>15</th>\n",
       "      <th>17</th>\n",
       "      <th>18</th>\n",
       "      <th>19</th>\n",
       "      <th>20</th>\n",
       "      <th>23</th>\n",
       "      <th>42</th>\n",
       "      <th>45</th>\n",
       "    </tr>\n",
       "  </thead>\n",
       "  <tbody>\n",
       "    <tr>\n",
       "      <th>4995</th>\n",
       "      <td>36 months</td>\n",
       "      <td>A</td>\n",
       "      <td>A4</td>\n",
       "      <td>Unknown</td>\n",
       "      <td>MORTGAGE</td>\n",
       "      <td>Verified</td>\n",
       "      <td>10/1</td>\n",
       "      <td>Fully Paid</td>\n",
       "      <td>https://www.lendingclub.com/browse/loanDetail....</td>\n",
       "      <td>other</td>\n",
       "      <td>天津</td>\n",
       "      <td>CT</td>\n",
       "      <td>Dec-91</td>\n",
       "      <td>14-Nov</td>\n",
       "      <td>16-Jan</td>\n",
       "    </tr>\n",
       "    <tr>\n",
       "      <th>4996</th>\n",
       "      <td>36 months</td>\n",
       "      <td>A</td>\n",
       "      <td>A1</td>\n",
       "      <td>10+ years</td>\n",
       "      <td>MORTGAGE</td>\n",
       "      <td>Not Verified</td>\n",
       "      <td>10/1</td>\n",
       "      <td>Fully Paid</td>\n",
       "      <td>https://www.lendingclub.com/browse/loanDetail....</td>\n",
       "      <td>other</td>\n",
       "      <td>宁夏</td>\n",
       "      <td>TX</td>\n",
       "      <td>Apr-94</td>\n",
       "      <td>14-May</td>\n",
       "      <td>14-Jun</td>\n",
       "    </tr>\n",
       "    <tr>\n",
       "      <th>4997</th>\n",
       "      <td>36 months</td>\n",
       "      <td>E</td>\n",
       "      <td>E2</td>\n",
       "      <td>&lt; 1 year</td>\n",
       "      <td>MORTGAGE</td>\n",
       "      <td>Verified</td>\n",
       "      <td>10/1</td>\n",
       "      <td>Fully Paid</td>\n",
       "      <td>https://www.lendingclub.com/browse/loanDetail....</td>\n",
       "      <td>credit_card</td>\n",
       "      <td>上海</td>\n",
       "      <td>OH</td>\n",
       "      <td>Sep-00</td>\n",
       "      <td>14-May</td>\n",
       "      <td>16-Jan</td>\n",
       "    </tr>\n",
       "    <tr>\n",
       "      <th>4998</th>\n",
       "      <td>36 months</td>\n",
       "      <td>B</td>\n",
       "      <td>B5</td>\n",
       "      <td>10+ years</td>\n",
       "      <td>RENT</td>\n",
       "      <td>Not Verified</td>\n",
       "      <td>10/1</td>\n",
       "      <td>Fully Paid</td>\n",
       "      <td>https://www.lendingclub.com/browse/loanDetail....</td>\n",
       "      <td>other</td>\n",
       "      <td>贵州</td>\n",
       "      <td>TX</td>\n",
       "      <td>Apr-99</td>\n",
       "      <td>14-Nov</td>\n",
       "      <td>15-Sep</td>\n",
       "    </tr>\n",
       "    <tr>\n",
       "      <th>4999</th>\n",
       "      <td>36 months</td>\n",
       "      <td>A</td>\n",
       "      <td>A2</td>\n",
       "      <td>10+ years</td>\n",
       "      <td>MORTGAGE</td>\n",
       "      <td>Source Verified</td>\n",
       "      <td>10/1</td>\n",
       "      <td>Fully Paid</td>\n",
       "      <td>https://www.lendingclub.com/browse/loanDetail....</td>\n",
       "      <td>credit_card</td>\n",
       "      <td>云南</td>\n",
       "      <td>PA</td>\n",
       "      <td>Dec-77</td>\n",
       "      <td>14-Nov</td>\n",
       "      <td>14-Oct</td>\n",
       "    </tr>\n",
       "  </tbody>\n",
       "</table>\n",
       "</div>"
      ],
      "text/plain": [
       "              5  8   9         10        11               13    14  \\\n",
       "4995  36 months  A  A4    Unknown  MORTGAGE         Verified  10/1   \n",
       "4996  36 months  A  A1  10+ years  MORTGAGE     Not Verified  10/1   \n",
       "4997  36 months  E  E2   < 1 year  MORTGAGE         Verified  10/1   \n",
       "4998  36 months  B  B5  10+ years      RENT     Not Verified  10/1   \n",
       "4999  36 months  A  A2  10+ years  MORTGAGE  Source Verified  10/1   \n",
       "\n",
       "              15                                                 17  \\\n",
       "4995  Fully Paid  https://www.lendingclub.com/browse/loanDetail....   \n",
       "4996  Fully Paid  https://www.lendingclub.com/browse/loanDetail....   \n",
       "4997  Fully Paid  https://www.lendingclub.com/browse/loanDetail....   \n",
       "4998  Fully Paid  https://www.lendingclub.com/browse/loanDetail....   \n",
       "4999  Fully Paid  https://www.lendingclub.com/browse/loanDetail....   \n",
       "\n",
       "               18  19  20      23      42      45  \n",
       "4995        other  天津  CT  Dec-91  14-Nov  16-Jan  \n",
       "4996        other  宁夏  TX  Apr-94  14-May  14-Jun  \n",
       "4997  credit_card  上海  OH  Sep-00  14-May  16-Jan  \n",
       "4998        other  贵州  TX  Apr-99  14-Nov  15-Sep  \n",
       "4999  credit_card  云南  PA  Dec-77  14-Nov  14-Oct  "
      ]
     },
     "execution_count": 28,
     "metadata": {},
     "output_type": "execute_result"
    }
   ],
   "source": [
    "objectColumns=loans.select_dtypes(include=['object']).columns\n",
    "pd.set_option('display.max_columns',len(objectColumns))\n",
    "loans[objectColumns].tail()"
   ]
  },
  {
   "cell_type": "code",
   "execution_count": 32,
   "metadata": {},
   "outputs": [
    {
     "data": {
      "text/plain": [
       "7"
      ]
     },
     "execution_count": 32,
     "metadata": {},
     "output_type": "execute_result"
    }
   ],
   "source": [
    "loans['15'].nunique()"
   ]
  },
  {
   "cell_type": "markdown",
   "metadata": {},
   "source": [
    "步骤12 特征抽象，即对特征进行编码"
   ]
  },
  {
   "cell_type": "code",
   "execution_count": null,
   "metadata": {},
   "outputs": [],
   "source": [
    "def coding(col,codeDict):\n",
    "    colCoded=pd.Series(col,copy=True)\n",
    "    for key,value in codeDict.items():\n",
    "        colCoded.replace(key,value,inplace=True)\n",
    "    return colCoded\n",
    "#贷款状态loanStatus 编码为违约=1，正常=0\n",
    "loans['15']=coding(loans['15'],{})\n",
    "pd.value_counts(loans['15'])"
   ]
  },
  {
   "cell_type": "markdown",
   "metadata": {},
   "source": [
    "步骤13 对部分数值特征进行抽象化"
   ]
  },
  {
   "cell_type": "code",
   "execution_count": null,
   "metadata": {},
   "outputs": [],
   "source": [
    "mapping_dict={{'emp_length':'10 years+':10,'9 years':9,...,'< 1 years':0,'Unknown':0},'grade':{'A':1,'B':2}}\n",
    "loans=loans.replace(mapping_dict)"
   ]
  },
  {
   "cell_type": "markdown",
   "metadata": {},
   "source": [
    "步骤14 剩余特征进行独热碼"
   ]
  },
  {
   "cell_type": "code",
   "execution_count": null,
   "metadata": {},
   "outputs": [],
   "source": [
    "n_columns=['','',..,'']\n",
    "dummy_df=pd.get_dummies(loans[n_columns])#get_dummies进行独热碼\n",
    "loans=pd.concat([loans,dummy_df],axis=1)#axis=1 列对齐"
   ]
  },
  {
   "cell_type": "markdown",
   "metadata": {},
   "source": [
    "步骤15 清楚原来的属性"
   ]
  },
  {
   "cell_type": "code",
   "execution_count": null,
   "metadata": {},
   "outputs": [],
   "source": [
    "loans=loans.drop(n_columns,axis=1)\n",
    "col=loans.select_dtypes(include=['int64','float64']).columns\n",
    "col=col.drop('loan_status')\n",
    "col=col.drop('id')\n",
    "loans_ml_df=loans#复制数据至变量loans_ml_df"
   ]
  },
  {
   "cell_type": "markdown",
   "metadata": {},
   "source": [
    "步骤16 特征缩放"
   ]
  },
  {
   "cell_type": "code",
   "execution_count": null,
   "metadata": {},
   "outputs": [],
   "source": [
    "from sklearn.preprocessing import StandardScaler\n",
    "sc=StandardScaler()\n",
    "#数据标准化\n",
    "loans_ml_df[col]=sc.fit_transform(loans_ml_df[col])"
   ]
  },
  {
   "cell_type": "markdown",
   "metadata": {},
   "source": [
    "步骤17 特征选择 首先通过RFE递归消除法选出相关性比较高的30个特征，然后通过随机森林判断属性重要性"
   ]
  },
  {
   "cell_type": "markdown",
   "metadata": {},
   "source": [
    "步骤18 不平衡数据的处理（过采样，样本生成，随机森林可以设置样本权重）"
   ]
  },
  {
   "cell_type": "code",
   "execution_count": null,
   "metadata": {},
   "outputs": [],
   "source": [
    "from sklearn.model_selection import train_test_split\n",
    "def data_prepration(x):\n",
    "    #从数据集中取出数据和标签，并划分数据训练集和测试集\n",
    "    x_features=x.ix[:,x.columns!='loan_status']\n",
    "    x_labels=x.ix[:,x.columns=='loan_status']\n",
    "    x_features_train,x_features_test,x_labels_train,x_labels_test=train_test_split(x_features,x_labels,test_size=0.3)\n",
    "    return (x_features_train,x_features_test,x_labels_train,x_labels_test)\n",
    "x=loans_ml_df[col_new]\n",
    "y=loans_ml_df['loans_status']\n",
    "df=loans_ml_df\n",
    "data_train_x,data_test_x,data_train_y,data_test_y=data_prepration(df)\n",
    "print(pd.value_counts(data_test_y['loans_status']))\n",
    "print(pd.value_counts(data_train_y['loans_status']))"
   ]
  },
  {
   "cell_type": "markdown",
   "metadata": {},
   "source": [
    "调用SMOTE算法进行倾斜数据的平衡化处理"
   ]
  },
  {
   "cell_type": "code",
   "execution_count": 33,
   "metadata": {},
   "outputs": [
    {
     "ename": "ModuleNotFoundError",
     "evalue": "No module named 'imblearn'",
     "output_type": "error",
     "traceback": [
      "\u001b[1;31m---------------------------------------------------------------------------\u001b[0m",
      "\u001b[1;31mModuleNotFoundError\u001b[0m                       Traceback (most recent call last)",
      "\u001b[1;32m<ipython-input-33-0b052d41b57a>\u001b[0m in \u001b[0;36m<module>\u001b[1;34m()\u001b[0m\n\u001b[1;32m----> 1\u001b[1;33m \u001b[1;32mfrom\u001b[0m \u001b[0mimblearn\u001b[0m\u001b[1;33m.\u001b[0m\u001b[0mover_sampling\u001b[0m \u001b[1;32mimport\u001b[0m \u001b[0mSMOTE\u001b[0m\u001b[1;33m\u001b[0m\u001b[0m\n\u001b[0m",
      "\u001b[1;31mModuleNotFoundError\u001b[0m: No module named 'imblearn'"
     ]
    }
   ],
   "source": [
    "from imblearn.over_sampling import SMOTE\n",
    "os=SMOTE(random_state=0)\n",
    "os_data_x,os_data_y=os.fit_sample(data.train_x.values,data_train_y.values.ravel())\n",
    "columns=data_train_x.columns\n",
    "os_data_x=pd.DataFrame(data=os_data_x,columns=columns)\n",
    "os_data_y=pd.DataFrame(data=os_data_y,columns=['loan_status'])\n",
    "newtraindata.set_index('id',inplace=True)\n",
    "newtestdata=pd.concat([os_test_x,os_test_y],axis=1)\n",
    "newtestdata.set_index('id',inplace=True)\n",
    "#将处理好的数据保存\n",
    "newtraindata.to_csv('',sep=',')\n",
    "newtestdata.to_csv('',sep=',')\n",
    "print('结束')"
   ]
  },
  {
   "cell_type": "markdown",
   "metadata": {},
   "source": [
    "上述过程完成数据的预处理与分析，得到了少数据集下数据分析比较好的模型参数。为后续基于大数据的数据挖掘和建模准备了条件"
   ]
  },
  {
   "cell_type": "code",
   "execution_count": null,
   "metadata": {},
   "outputs": [],
   "source": [
    "#对于风险评估模型，欺诈模型，一定要进行数据去不平衡化处理，因为数据中正常样本会远远大于异常样本。"
   ]
  }
 ],
 "metadata": {
  "kernelspec": {
   "display_name": "Python 3",
   "language": "python",
   "name": "python3"
  },
  "language_info": {
   "codemirror_mode": {
    "name": "ipython",
    "version": 3
   },
   "file_extension": ".py",
   "mimetype": "text/x-python",
   "name": "python",
   "nbconvert_exporter": "python",
   "pygments_lexer": "ipython3",
   "version": "3.7.0"
  }
 },
 "nbformat": 4,
 "nbformat_minor": 2
}
