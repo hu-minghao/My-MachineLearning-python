{
 "cells": [
  {
   "cell_type": "markdown",
   "metadata": {},
   "source": [
    "这里兴高采烈的来建模了，心想这不是挺简单的么，洒洒水啦~。但一动手就发现我已经输了。"
   ]
  },
  {
   "cell_type": "code",
   "execution_count": null,
   "metadata": {},
   "outputs": [],
   "source": [
    "#首先想弄一个baseline,就用线性回归得啦。话说什么是baseline?\n",
    "import pandas as pd\n",
    "from sklearn.linear_model import LinearRegression\n",
    "from sklearn.metrics import mean_squared_error\n",
    "#十则交叉看模型的性能\n",
    "from sklearn.model_selection import cross_val_score"
   ]
  },
  {
   "cell_type": "code",
   "execution_count": 2,
   "metadata": {},
   "outputs": [],
   "source": [
    "#读数据并替换'-'，因为线性回归不能接收缺失值，但树模型是可以接受带空值的特征的\n",
    "car_x=pd.read_csv('E:\\Machine Learning\\car_train_data.csv')\n",
    "car_x['notRepairedDamage']=car_x['notRepairedDamage'].replace('-',0)\n",
    "car_x.head()"
   ]
  },
  {
   "cell_type": "code",
   "execution_count": 11,
   "metadata": {},
   "outputs": [
    {
     "data": {
      "text/html": [
       "<div>\n",
       "<style scoped>\n",
       "    .dataframe tbody tr th:only-of-type {\n",
       "        vertical-align: middle;\n",
       "    }\n",
       "\n",
       "    .dataframe tbody tr th {\n",
       "        vertical-align: top;\n",
       "    }\n",
       "\n",
       "    .dataframe thead th {\n",
       "        text-align: right;\n",
       "    }\n",
       "</style>\n",
       "<table border=\"1\" class=\"dataframe\">\n",
       "  <thead>\n",
       "    <tr style=\"text-align: right;\">\n",
       "      <th></th>\n",
       "      <th>price</th>\n",
       "    </tr>\n",
       "  </thead>\n",
       "  <tbody>\n",
       "    <tr>\n",
       "      <th>0</th>\n",
       "      <td>1850</td>\n",
       "    </tr>\n",
       "    <tr>\n",
       "      <th>1</th>\n",
       "      <td>3600</td>\n",
       "    </tr>\n",
       "    <tr>\n",
       "      <th>2</th>\n",
       "      <td>6222</td>\n",
       "    </tr>\n",
       "    <tr>\n",
       "      <th>3</th>\n",
       "      <td>2400</td>\n",
       "    </tr>\n",
       "    <tr>\n",
       "      <th>4</th>\n",
       "      <td>5200</td>\n",
       "    </tr>\n",
       "  </tbody>\n",
       "</table>\n",
       "</div>"
      ],
      "text/plain": [
       "   price\n",
       "0   1850\n",
       "1   3600\n",
       "2   6222\n",
       "3   2400\n",
       "4   5200"
      ]
     },
     "execution_count": 11,
     "metadata": {},
     "output_type": "execute_result"
    }
   ],
   "source": [
    "#载入标签\n",
    "car_y=pd.read_csv('E:\\Machine Learning\\car_train_target.csv')\n",
    "car_y.head()"
   ]
  },
  {
   "cell_type": "code",
   "execution_count": 12,
   "metadata": {},
   "outputs": [
    {
     "name": "stdout",
     "output_type": "stream",
     "text": [
      "4165.112076372765\n"
     ]
    }
   ],
   "source": [
    "#看一下线性模型，误差大的吓人\n",
    "import numpy as np\n",
    "lin_reg=LinearRegression()\n",
    "lin_reg.fit(car_x,car_y)\n",
    "y_pre=lin_reg.predict(car_x)\n",
    "lin_mse = mean_squared_error(car_y,y_pre)\n",
    "lin_rmse = np.sqrt(lin_mse) #平方根\n",
    "print(lin_rmse)"
   ]
  },
  {
   "cell_type": "code",
   "execution_count": 13,
   "metadata": {},
   "outputs": [
    {
     "name": "stdout",
     "output_type": "stream",
     "text": [
      "prediction: [[ 1248.18160609]\n",
      " [ 4231.55435276]\n",
      " [10490.87458916]\n",
      " [ 7255.27279828]\n",
      " [11630.65061355]]\n",
      "labels: [[1850]\n",
      " [3600]\n",
      " [6222]\n",
      " [2400]\n",
      " [5200]]\n"
     ]
    }
   ],
   "source": [
    "#看了下预测结果，误差很大\n",
    "some_data = car_x.iloc[:5]\n",
    "some_labels = car_y.iloc[:5]\n",
    "print('prediction:',lin_reg.predict(some_data))\n",
    "print('labels:',some_labels.values)"
   ]
  },
  {
   "cell_type": "code",
   "execution_count": 14,
   "metadata": {},
   "outputs": [
    {
     "name": "stdout",
     "output_type": "stream",
     "text": [
      "12.34494439931676\n"
     ]
    }
   ],
   "source": [
    "#不行再换，决策树模型\n",
    "from sklearn.tree import DecisionTreeRegressor \n",
    "dtr_reg=DecisionTreeRegressor()\n",
    "dtr_reg.fit(car_x,car_y)\n",
    "dtr_pre=dtr_reg.predict(car_x)\n",
    "dtr_mse = mean_squared_error(car_y,dtr_pre)\n",
    "dtr_rmse = np.sqrt(dtr_mse) #平方根\n",
    "#决策树回归，分分钟就过拟合了\n",
    "print(dtr_rmse)"
   ]
  },
  {
   "cell_type": "code",
   "execution_count": 18,
   "metadata": {},
   "outputs": [
    {
     "name": "stdout",
     "output_type": "stream",
     "text": [
      "prediction: [1850. 3600. 6222. 2400. 5200. 8000.]\n",
      "labels:    price\n",
      "0   1850\n",
      "1   3600\n",
      "2   6222\n",
      "3   2400\n",
      "4   5200\n",
      "5   8000\n"
     ]
    }
   ],
   "source": [
    "#惊人的准确率\n",
    "print('prediction:',dtr_pre[:6])\n",
    "print('labels:',car_y.iloc[:6])"
   ]
  },
  {
   "cell_type": "code",
   "execution_count": 19,
   "metadata": {},
   "outputs": [
    {
     "name": "stdout",
     "output_type": "stream",
     "text": [
      "rmse_scores\n",
      " [1940.93283397 1933.24291727 2000.69313749 1948.12326239 2222.57523752\n",
      " 2173.21727325 2018.16584627 1987.11174987 2082.8980256  2065.04638822]\n",
      "rmse_scores_mean\n",
      " 2037.2006671836266\n",
      "rmse_scores_std\n",
      " 93.77707528590926\n"
     ]
    }
   ],
   "source": [
    "#交叉验证看一下，到此过拟合有多严重\n",
    "from sklearn.model_selection import cross_val_score\n",
    "scores = cross_val_score(dtr_reg,car_x,car_y,scoring='neg_mean_squared_error',cv=10)\n",
    "rmse_scores = np.sqrt(-scores)\n",
    "print('rmse_scores\\n',rmse_scores)\n",
    "print('rmse_scores_mean\\n',rmse_scores.mean())\n",
    "print('rmse_scores_std\\n',rmse_scores.std())\n",
    "#误差还是很大的"
   ]
  },
  {
   "cell_type": "code",
   "execution_count": null,
   "metadata": {},
   "outputs": [],
   "source": [
    "#那试试随机森林\n",
    "from sklearn.ensemble import RandomForestRegressor\n",
    "forest_reg = RandomForestRegressor(n_estimators=60, criterion='mse')\n",
    "forest_reg.fit(x_train, log_y)\n",
    "forest_pre = forest_reg.predict(x_val)\n",
    "forest_mse = mean_squared_error(y_val.values, np.exp(forest_pre))\n",
    "forest_rmse = np.sqrt(forest_mse)\n",
    "print(forest_rmse)#n_estimators=10 mean_squared_error平方根为623\n",
    "#随机森林效果很好，整个数据集MAE看一下"
   ]
  },
  {
   "cell_type": "code",
   "execution_count": 33,
   "metadata": {},
   "outputs": [
    {
     "name": "stdout",
     "output_type": "stream",
     "text": [
      "262.27025538297653\n"
     ]
    }
   ],
   "source": [
    "car_rfg_pre=forest_reg.predict(car_x)\n",
    "car_y['rfg_pre']=car_rfg_pre\n",
    "car_y['rfg_socre']=abs(car_y['price']-car_y['rfg_pre'])\n",
    "print(car_y['rfg_socre'].mean())#262.27025538297653 哇，效果太好了，赶紧对验证集进行预测，结果上传，得分611，心态有点崩"
   ]
  },
  {
   "cell_type": "code",
   "execution_count": 36,
   "metadata": {},
   "outputs": [
    {
     "data": {
      "text/plain": [
       "['E:\\\\Machine Learning\\\\forest_reg.pkl']"
      ]
     },
     "execution_count": 36,
     "metadata": {},
     "output_type": "execute_result"
    }
   ],
   "source": [
    "#保存模型\n",
    "from sklearn.externals import joblib\n",
    "#lr是一个LogisticRegression模型\n",
    "joblib.dump(forest_reg, r'E:\\Machine Learning\\forest_reg.pkl')\n",
    "#model = joblib.load('forest_reg.pkl')"
   ]
  },
  {
   "cell_type": "code",
   "execution_count": null,
   "metadata": {},
   "outputs": [],
   "source": [
    "#试一下据说效果很好的GBDT\n",
    "from sklearn.model_selection import train_test_split\n",
    "x_train, x_val, y_train, y_val = train_test_split(car_x, car_y, test_size=0.1, random_state=18)\n",
    "params = {'n_estimators': 500, 'max_depth': 4, 'min_samples_split': 2,\n",
    "          'learning_rate': 0.01, 'loss': 'ls'}\n",
    "gbm0 = GradientBoostingRegressor(**params,random_state=18)\n",
    "gbm0.fit(x_train, y_train.values)\n",
    "\n",
    "print(\"tr-accuracy: %.4g\" % np.sqrt(metrics.mean_squared_error(y_train.values, gbm0.predict(x_train))))      # Accuracy : 0.9855\n",
    "#print(\"tr-AUC: %f\" % metrics.roc_auc_score(y_train, gbm0.predict_proba(x_train)[:, 1]))      # AUC Score (Train): 0.910597\n",
    "\n",
    "print(\"val-accuracy: %.4g\" % np.sqrt(metrics.mean_squared_error(y_val, gbm0.predict(x_val))))"
   ]
  },
  {
   "cell_type": "code",
   "execution_count": 22,
   "metadata": {},
   "outputs": [
    {
     "name": "stderr",
     "output_type": "stream",
     "text": [
      "C:\\ProgramData\\Anaconda3\\lib\\site-packages\\sklearn\\model_selection\\_validation.py:458: DataConversionWarning: A column-vector y was passed when a 1d array was expected. Please change the shape of y to (n_samples,), for example using ravel().\n",
      "  estimator.fit(X_train, y_train, **fit_params)\n",
      "C:\\ProgramData\\Anaconda3\\lib\\site-packages\\sklearn\\model_selection\\_validation.py:458: DataConversionWarning: A column-vector y was passed when a 1d array was expected. Please change the shape of y to (n_samples,), for example using ravel().\n",
      "  estimator.fit(X_train, y_train, **fit_params)\n",
      "C:\\ProgramData\\Anaconda3\\lib\\site-packages\\sklearn\\model_selection\\_validation.py:458: DataConversionWarning: A column-vector y was passed when a 1d array was expected. Please change the shape of y to (n_samples,), for example using ravel().\n",
      "  estimator.fit(X_train, y_train, **fit_params)\n",
      "C:\\ProgramData\\Anaconda3\\lib\\site-packages\\sklearn\\model_selection\\_validation.py:458: DataConversionWarning: A column-vector y was passed when a 1d array was expected. Please change the shape of y to (n_samples,), for example using ravel().\n",
      "  estimator.fit(X_train, y_train, **fit_params)\n",
      "C:\\ProgramData\\Anaconda3\\lib\\site-packages\\sklearn\\model_selection\\_validation.py:458: DataConversionWarning: A column-vector y was passed when a 1d array was expected. Please change the shape of y to (n_samples,), for example using ravel().\n",
      "  estimator.fit(X_train, y_train, **fit_params)\n",
      "C:\\ProgramData\\Anaconda3\\lib\\site-packages\\sklearn\\model_selection\\_validation.py:458: DataConversionWarning: A column-vector y was passed when a 1d array was expected. Please change the shape of y to (n_samples,), for example using ravel().\n",
      "  estimator.fit(X_train, y_train, **fit_params)\n",
      "C:\\ProgramData\\Anaconda3\\lib\\site-packages\\sklearn\\model_selection\\_validation.py:458: DataConversionWarning: A column-vector y was passed when a 1d array was expected. Please change the shape of y to (n_samples,), for example using ravel().\n",
      "  estimator.fit(X_train, y_train, **fit_params)\n",
      "C:\\ProgramData\\Anaconda3\\lib\\site-packages\\sklearn\\model_selection\\_validation.py:458: DataConversionWarning: A column-vector y was passed when a 1d array was expected. Please change the shape of y to (n_samples,), for example using ravel().\n",
      "  estimator.fit(X_train, y_train, **fit_params)\n",
      "C:\\ProgramData\\Anaconda3\\lib\\site-packages\\sklearn\\model_selection\\_validation.py:458: DataConversionWarning: A column-vector y was passed when a 1d array was expected. Please change the shape of y to (n_samples,), for example using ravel().\n",
      "  estimator.fit(X_train, y_train, **fit_params)\n",
      "C:\\ProgramData\\Anaconda3\\lib\\site-packages\\sklearn\\model_selection\\_validation.py:458: DataConversionWarning: A column-vector y was passed when a 1d array was expected. Please change the shape of y to (n_samples,), for example using ravel().\n",
      "  estimator.fit(X_train, y_train, **fit_params)\n"
     ]
    },
    {
     "name": "stdout",
     "output_type": "stream",
     "text": [
      "[1534.27772446 1439.54812633 1379.18261851 1478.59843379 1609.05619821\n",
      " 1432.95418084 1387.27779408 1439.94270738 1546.19870388 1465.28828909]\n",
      "1471.2324776574446\n",
      "69.0285072748444\n"
     ]
    }
   ],
   "source": [
    "#十择验证后效果也不是很好\n",
    "forest_scores = cross_val_score(forest_reg, car_x, car_y,scoring=\"neg_mean_squared_error\", cv=10)\n",
    "forest_rmse_scores = np.sqrt(-forest_scores)\n",
    "print(forest_rmse_scores) \n",
    "print(forest_rmse_scores.mean())#结果大于22180。说明训练集存在过拟合\n",
    "print(forest_rmse_scores.std())"
   ]
  },
  {
   "cell_type": "code",
   "execution_count": 61,
   "metadata": {},
   "outputs": [
    {
     "name": "stdout",
     "output_type": "stream",
     "text": [
      "1749193.7663438704\n"
     ]
    }
   ],
   "source": [
    "#最后决定用随机森林，将训练数据分集，并尝试初步调参\n",
    "from sklearn.ensemble import RandomForestRegressor\n",
    "#n_estimators=40时有一个最小误差\n",
    "x_train, x_val, y_train, y_val = train_test_split(car_x, car_y['log_y'], test_size=0.1, random_state=18)\n",
    "forest_reg=RandomForestRegressor(n_estimators=100, criterion='mse',oob_score = True, n_jobs = -1)\n",
    "forest_reg.fit(x_train,y_train)\n",
    "forest_pre=forest_reg.predict(x_val)\n",
    "forest_mse=mean_squared_error(np.exp(y_val),np.exp(forest_pre))\n",
    "print(np.sqrt(forest_mse))\n",
    "#from sklearn.model_selection import cross_val_score()\n",
    "#forest_score=cross_val_score(forest_reg,car_x,car_y,scoring='neg_mean_squared_error',cv=10)\n",
    "#forest_score_rmse=np.sqrt(-forest_score)\n",
    "#print('forest_score_rmse_mean',forest_score_rmse.mean())\n",
    "#print('forest_score_rmse_std',forest_score_rmse.std())\n",
    "#最后100棵树时，误差最小，这里讲目标值取了一个对数，想让其更符合正态分布，最后误差下降了一些"
   ]
  },
  {
   "cell_type": "code",
   "execution_count": 66,
   "metadata": {},
   "outputs": [
    {
     "data": {
      "text/html": [
       "<div>\n",
       "<style scoped>\n",
       "    .dataframe tbody tr th:only-of-type {\n",
       "        vertical-align: middle;\n",
       "    }\n",
       "\n",
       "    .dataframe tbody tr th {\n",
       "        vertical-align: top;\n",
       "    }\n",
       "\n",
       "    .dataframe thead th {\n",
       "        text-align: right;\n",
       "    }\n",
       "</style>\n",
       "<table border=\"1\" class=\"dataframe\">\n",
       "  <thead>\n",
       "    <tr style=\"text-align: right;\">\n",
       "      <th></th>\n",
       "      <th>SaleID</th>\n",
       "      <th>price</th>\n",
       "      <th>test_pre</th>\n",
       "    </tr>\n",
       "  </thead>\n",
       "  <tbody>\n",
       "    <tr>\n",
       "      <th>0</th>\n",
       "      <td>150000</td>\n",
       "      <td>37869.783333</td>\n",
       "      <td>36271.14</td>\n",
       "    </tr>\n",
       "    <tr>\n",
       "      <th>1</th>\n",
       "      <td>150001</td>\n",
       "      <td>335.233333</td>\n",
       "      <td>344.40</td>\n",
       "    </tr>\n",
       "    <tr>\n",
       "      <th>2</th>\n",
       "      <td>150002</td>\n",
       "      <td>6448.866667</td>\n",
       "      <td>6447.99</td>\n",
       "    </tr>\n",
       "    <tr>\n",
       "      <th>3</th>\n",
       "      <td>150003</td>\n",
       "      <td>10861.016667</td>\n",
       "      <td>11832.41</td>\n",
       "    </tr>\n",
       "    <tr>\n",
       "      <th>4</th>\n",
       "      <td>150004</td>\n",
       "      <td>633.233333</td>\n",
       "      <td>619.85</td>\n",
       "    </tr>\n",
       "  </tbody>\n",
       "</table>\n",
       "</div>"
      ],
      "text/plain": [
       "   SaleID         price  test_pre\n",
       "0  150000  37869.783333  36271.14\n",
       "1  150001    335.233333    344.40\n",
       "2  150002   6448.866667   6447.99\n",
       "3  150003  10861.016667  11832.41\n",
       "4  150004    633.233333    619.85"
      ]
     },
     "execution_count": 66,
     "metadata": {},
     "output_type": "execute_result"
    }
   ],
   "source": [
    "#将模型对testA再次预测\n",
    "rdf_pre=pd.read_csv(r'E:\\Machine Learning\\used_car_submit.csv')\n",
    "test_A=pd.read_csv('E:\\Machine Learning\\car_testA.csv')\n",
    "test_A['notRepairedDamage']=test_A['notRepairedDamage'].replace('-',0)\n",
    "test_pre=forest_reg.predict(test_A)\n",
    "rdf_pre['test_pre']=np.exp(test_pre)\n",
    "rdf_pre['test_pre']=rdf_pre['test_pre'].round(decimals=2)\n",
    "rdf_pre.head()\n",
    "#数据变化了一些"
   ]
  },
  {
   "cell_type": "code",
   "execution_count": 69,
   "metadata": {},
   "outputs": [],
   "source": [
    "#结果保存，再次上传，等分上升了10几分\n",
    "rdf_pre.to_csv(r'E:\\Machine Learning\\used_car_submit2.csv',index=False)"
   ]
  },
  {
   "cell_type": "code",
   "execution_count": 56,
   "metadata": {},
   "outputs": [
    {
     "name": "stdout",
     "output_type": "stream",
     "text": [
      "结束\n"
     ]
    }
   ],
   "source": [
    "#这里想找最优的森林树棵数\n",
    "n_estimator=[10,20,30,40,50,60]\n",
    "rmse=[]\n",
    "for i in n_estimator:\n",
    "    n=i\n",
    "    forest_reg=RandomForestRegressor(n_estimators=n, criterion='mse')\n",
    "    forest_reg.fit(x_train,y_train)\n",
    "    forest_pre=forest_reg.predict(x_val)\n",
    "    forest_mse=mean_squared_error(np.exp(y_val),np.exp(forest_pre))\n",
    "    rmse.append(np.sqrt(forest_mse))\n",
    "print('结束')#n=40时最小，但之后在试了一下，n=100时误差更小"
   ]
  },
  {
   "cell_type": "code",
   "execution_count": 24,
   "metadata": {},
   "outputs": [],
   "source": [
    "from sklearn.ensemble import GradientBoostingRegressor\n",
    "from sklearn import cross_validation, metrics\n",
    "from sklearn.grid_search import GridSearchCV\n",
    "\n",
    "import matplotlib.pylab as plt\n"
   ]
  },
  {
   "cell_type": "code",
   "execution_count": 28,
   "metadata": {},
   "outputs": [
    {
     "name": "stderr",
     "output_type": "stream",
     "text": [
      "C:\\ProgramData\\Anaconda3\\lib\\site-packages\\sklearn\\utils\\validation.py:578: DataConversionWarning: A column-vector y was passed when a 1d array was expected. Please change the shape of y to (n_samples, ), for example using ravel().\n",
      "  y = column_or_1d(y, warn=True)\n"
     ]
    },
    {
     "name": "stdout",
     "output_type": "stream",
     "text": [
      "tr-accuracy: 1519\n",
      "val-accuracy: 1552\n"
     ]
    }
   ],
   "source": [
    "from sklearn.model_selection import train_test_split\n",
    "x_train, x_val, y_train, y_val = train_test_split(car_x, car_y, test_size=0.1, random_state=18)\n",
    "params = {'n_estimators': 500, 'max_depth': 4, 'min_samples_split': 2,\n",
    "          'learning_rate': 0.01, 'loss': 'ls'}\n",
    "gbm0 = GradientBoostingRegressor(**params,random_state=18)\n",
    "gbm0.fit(x_train, y_train.values)\n",
    "\n",
    "print(\"tr-accuracy: %.4g\" % np.sqrt(metrics.mean_squared_error(y_train.values, gbm0.predict(x_train))))      # Accuracy : 0.9855\n",
    "#print(\"tr-AUC: %f\" % metrics.roc_auc_score(y_train, gbm0.predict_proba(x_train)[:, 1]))      # AUC Score (Train): 0.910597\n",
    "\n",
    "print(\"val-accuracy: %.4g\" % np.sqrt(metrics.mean_squared_error(y_val, gbm0.predict(x_val))))      # Accuracy : 0.9825\n",
    "#print(\"val-AUC: %f\" % metrics.roc_auc_score(y_val, gbm0.predict_proba(x_val)[:, 1]))    \n",
    "\n"
   ]
  },
  {
   "cell_type": "code",
   "execution_count": 30,
   "metadata": {},
   "outputs": [
    {
     "name": "stdout",
     "output_type": "stream",
     "text": [
      "831.6974037814969\n"
     ]
    }
   ],
   "source": [
    "car_pre=gbm0.predict(car_x)\n",
    "car_y['gbm_pre']=car_pre\n",
    "car_y['gbm_socre']=abs(car_y['price']-car_y['gbm_pre'])\n",
    "print(car_y['gbm_socre'].mean())"
   ]
  },
  {
   "cell_type": "code",
   "execution_count": 42,
   "metadata": {},
   "outputs": [
    {
     "data": {
      "image/png": "[encoded data removed]",
      "text/plain": [
       "<Figure size 432x288 with 1 Axes>"
      ]
     },
     "metadata": {
      "needs_background": "light"
     },
     "output_type": "display_data"
    }
   ],
   "source": [
    "#目标值取对数，结果很符合正态分布。\n",
    "plt.hist(log_y,bins=50)"
   ]
  }
 ],
 "metadata": {
  "kernelspec": {
   "display_name": "Python 3",
   "language": "python",
   "name": "python3"
  },
  "language_info": {
   "codemirror_mode": {
    "name": "ipython",
    "version": 3
   },
   "file_extension": ".py",
   "mimetype": "text/x-python",
   "name": "python",
   "nbconvert_exporter": "python",
   "pygments_lexer": "ipython3",
   "version": "3.7.0"
  }
 },
 "nbformat": 4,
 "nbformat_minor": 2
}
